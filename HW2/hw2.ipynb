{
 "cells": [
  {
   "cell_type": "markdown",
   "id": "c6d5f3a6",
   "metadata": {},
   "source": [
    "# HW 2 - Discrimination by Regression\n",
    "## Murat Han Aydoğan\n",
    "### 64756"
   ]
  },
  {
   "cell_type": "code",
   "execution_count": 1,
   "id": "963ad761",
   "metadata": {},
   "outputs": [],
   "source": [
    "import matplotlib.pyplot as plt\n",
    "import numpy as np\n",
    "import pandas as pd\n",
    "import scipy.stats as stats"
   ]
  },
  {
   "cell_type": "markdown",
   "id": "be6529a9",
   "metadata": {},
   "source": [
    "## Importing Data"
   ]
  },
  {
   "cell_type": "code",
   "execution_count": 2,
   "id": "c8ad4b08",
   "metadata": {},
   "outputs": [],
   "source": [
    "# read data into memory\n",
    "data_set = np.genfromtxt(\"hw02_data_points.csv\", delimiter=\",\")\n",
    "data_set_y = np.genfromtxt(\"hw02_class_labels.csv\")\n",
    "\n",
    "# get X\n",
    "X = data_set[:10000].astype(float)\n",
    "X_test = data_set[10000:].astype(float)\n",
    "\n",
    "# get number of samples\n",
    "N = X.shape[0]\n",
    "N_test = X_test.shape[0]\n",
    "# get number of features\n",
    "D = X.shape[1]"
   ]
  },
  {
   "cell_type": "code",
   "execution_count": 3,
   "id": "63a0b023",
   "metadata": {},
   "outputs": [
    {
     "name": "stdout",
     "output_type": "stream",
     "text": [
      "10000 5000 784\n"
     ]
    }
   ],
   "source": [
    "print(N, N_test, D)"
   ]
  },
  {
   "cell_type": "code",
   "execution_count": 4,
   "id": "fee272b5",
   "metadata": {},
   "outputs": [
    {
     "name": "stdout",
     "output_type": "stream",
     "text": [
      "10\n",
      "[[0 0 1 ... 0 0 0]\n",
      " [0 0 0 ... 0 0 1]\n",
      " [0 0 0 ... 0 0 0]\n",
      " ...\n",
      " [0 0 0 ... 0 1 0]\n",
      " [0 0 0 ... 0 0 0]\n",
      " [0 0 0 ... 0 0 0]]\n",
      "[[1 0 0 ... 0 0 0]\n",
      " [0 1 0 ... 0 0 0]\n",
      " [0 0 1 ... 0 0 0]\n",
      " ...\n",
      " [0 0 1 ... 0 0 0]\n",
      " [0 0 0 ... 0 0 0]\n",
      " [0 0 0 ... 0 0 1]]\n"
     ]
    }
   ],
   "source": [
    "#get y values\n",
    "y_truth = np.transpose(np.array([data_set_y[:10000].astype(int)]))\n",
    "y_test = np.transpose(np.array([data_set_y[10000:].astype(int)]))\n",
    "\n",
    "# get number of classes\n",
    "K = np.max(y_truth)\n",
    "print(K)\n",
    "\n",
    "# one-of-K encoding\n",
    "Y_truth = np.zeros((N, K)).astype(int)\n",
    "Y_truth[range(N), y_truth[:, 0] - 1] = 1\n",
    "\n",
    "Y_test = np.zeros((N_test, K)).astype(int)\n",
    "Y_test[range(N_test), y_test[:, 0] - 1] = 1\n",
    "\n",
    "print(Y_truth)\n",
    "print(Y_test)"
   ]
  },
  {
   "cell_type": "markdown",
   "id": "79749cee",
   "metadata": {},
   "source": [
    "## Sigmoid Function"
   ]
  },
  {
   "cell_type": "markdown",
   "id": "5fe2a0ef",
   "metadata": {},
   "source": [
    "$\\textrm{sigmoid}(\\boldsymbol{w}^{\\top} \\boldsymbol{x} + w_{0}) = \\dfrac{1}{1 + \\exp\\left[-(\\boldsymbol{w}^{\\top} \\boldsymbol{x} + w_{0})\\right]}$"
   ]
  },
  {
   "cell_type": "code",
   "execution_count": 5,
   "id": "444c10a1",
   "metadata": {},
   "outputs": [],
   "source": [
    "# define the sigmoid function\n",
    "def sigmoid(X, w, w0):\n",
    "    return(1 / (1 + np.exp(-(np.matmul(X, w) + w0))))"
   ]
  },
  {
   "cell_type": "code",
   "execution_count": 6,
   "id": "56f4da15",
   "metadata": {},
   "outputs": [],
   "source": [
    "# define the softmax function\n",
    "def softmax(X, W, w0):\n",
    "    N = X.shape[0]\n",
    "    K = W.shape[1]\n",
    "    scores = np.matmul(np.hstack((X, np.ones((N, 1)))), np.vstack((W, w0)))\n",
    "    scores = np.exp(scores - np.repeat(np.amax(scores, axis = 1, keepdims = True), K, axis = 1))\n",
    "    scores = scores / np.repeat(np.sum(scores, axis = 1, keepdims = True), K, axis = 1)\n",
    "    return(scores)"
   ]
  },
  {
   "cell_type": "markdown",
   "id": "3316f191",
   "metadata": {},
   "source": [
    "## Gradient Functions"
   ]
  },
  {
   "cell_type": "markdown",
   "id": "68252611",
   "metadata": {},
   "source": [
    "\\begin{align*}\n",
    "\\dfrac{\\partial \\textrm{Error}}{\\partial \\boldsymbol{w}_{c}} &= -\\sum\\limits_{i = 1}^{N} (y_{ic} - \\widehat{y}_{ic})(\\widehat{y}_{ic})(1 - \\widehat{y}_{ic})\\boldsymbol{x}_{i} \\\\\n",
    "\\dfrac{\\partial \\textrm{Error}}{\\partial w_{c0}} &= -\\sum\\limits_{i = 1}^{N} (y_{ic} - \\widehat{y}_{ic})(\\widehat{y}_{ic})(1- \\widehat{y}_{ic}) \n",
    "\\end{align*}"
   ]
  },
  {
   "cell_type": "code",
   "execution_count": 7,
   "id": "36b74189",
   "metadata": {},
   "outputs": [],
   "source": [
    "# define the gradient functions\n",
    "def gradient_W(X, Y_truth, Y_predicted):\n",
    "    y = ((Y_truth - Y_predicted) * Y_predicted * (1 - Y_predicted))\n",
    "    return(np.asarray([-np.matmul(y[:, c], X) for c in range(K)]).transpose())\n",
    "\n",
    "def gradient_w0(Y_truth, Y_predicted):\n",
    "    y = ((Y_truth - Y_predicted) * Y_predicted * (1 - Y_predicted))\n",
    "    return(-np.sum(y, axis = 0))"
   ]
  },
  {
   "cell_type": "markdown",
   "id": "a2faa01f",
   "metadata": {},
   "source": [
    "## Algorithm Parameters"
   ]
  },
  {
   "cell_type": "code",
   "execution_count": 8,
   "id": "ef76bb34",
   "metadata": {},
   "outputs": [],
   "source": [
    "# set learning parameters\n",
    "eta = 0.00001\n",
    "iteration_count = 1000"
   ]
  },
  {
   "cell_type": "code",
   "execution_count": 9,
   "id": "7d621595",
   "metadata": {},
   "outputs": [],
   "source": [
    "W_data_set = np.genfromtxt(\"hw02_W_initial.csv\", delimiter=\",\")\n",
    "w0_data_set = np.genfromtxt(\"hw02_w0_initial.csv\", delimiter=\",\")\n",
    "\n",
    "W = W_data_set.astype(float)\n",
    "\n",
    "w0 = w0_data_set.astype(float)"
   ]
  },
  {
   "cell_type": "markdown",
   "id": "284bc32f",
   "metadata": {},
   "source": [
    "## Iterative Algorithm"
   ]
  },
  {
   "cell_type": "markdown",
   "id": "950689d5",
   "metadata": {},
   "source": [
    "$\\textrm{Error} = 0.5 \\sum\\limits_{i = 1}^{N} \\sum\\limits_{c = 1}^{K} \\left[ y_{ic}- \\hat{y}_{ic} \\right]^2$"
   ]
  },
  {
   "cell_type": "code",
   "execution_count": 10,
   "id": "256cb02b",
   "metadata": {},
   "outputs": [
    {
     "name": "stdout",
     "output_type": "stream",
     "text": [
      "[[-0.01324798 -0.02823844 -0.00326868 ... -0.04877851  0.01212054\n",
      "  -0.01143465]\n",
      " [-0.01183842 -0.03963016 -0.01295336 ... -0.04034705  0.00400381\n",
      "  -0.02111644]\n",
      " [-0.01998825 -0.03633561 -0.00489235 ... -0.04108662  0.01387463\n",
      "  -0.02484677]\n",
      " ...\n",
      " [-0.01341638 -0.0199712  -0.02071762 ... -0.03364511  0.00594223\n",
      "  -0.01845717]\n",
      " [-0.00980747 -0.03218592 -0.02022552 ... -0.03211477  0.01611503\n",
      "  -0.00845905]\n",
      " [-0.01977218 -0.02373074 -0.01468591 ... -0.04159601  0.01068509\n",
      "  -0.02400039]]\n",
      "[-0.01287857 -0.02891159 -0.00873806 -0.03535891 -0.02597275 -0.06542254\n",
      " -0.01501564 -0.0451543   0.00689065 -0.01964791]\n"
     ]
    }
   ],
   "source": [
    "# learn W and w0 using gradient descent\n",
    "iteration = 1\n",
    "objective_values = []\n",
    "while True:\n",
    "    Y_predicted = sigmoid(X, W, w0)\n",
    "\n",
    "    objective_values = np.append(objective_values, 0.5 * np.sum((Y_truth - Y_predicted)**2))\n",
    "\n",
    "    W_old = W\n",
    "    w0_old = w0\n",
    "\n",
    "    W = W_old - eta * gradient_W(X, Y_truth, Y_predicted)\n",
    "    w0 = w0_old - eta * gradient_w0(Y_truth, Y_predicted)\n",
    "\n",
    "    if iteration == iteration_count:\n",
    "        break\n",
    "\n",
    "    iteration = iteration + 1\n",
    "print(W)\n",
    "print(w0)"
   ]
  },
  {
   "cell_type": "code",
   "execution_count": 11,
   "id": "36431279",
   "metadata": {},
   "outputs": [
    {
     "name": "stdout",
     "output_type": "stream",
     "text": [
      "(10000, 10)\n",
      "(10000, 10)\n"
     ]
    }
   ],
   "source": [
    "print(Y_predicted.shape)\n",
    "print(Y_truth.shape)"
   ]
  },
  {
   "cell_type": "code",
   "execution_count": 12,
   "id": "896ebb98",
   "metadata": {},
   "outputs": [
    {
     "data": {
      "image/png": "[encoded data removed]",
      "text/plain": [
       "<Figure size 800x400 with 1 Axes>"
      ]
     },
     "metadata": {},
     "output_type": "display_data"
    }
   ],
   "source": [
    "# plot objective function during iterations\n",
    "plt.figure(figsize = (8, 4))\n",
    "plt.plot(range(1, iteration + 1), objective_values, \"k-\")\n",
    "plt.xlabel(\"Iteration\")\n",
    "plt.ylabel(\"Error\")\n",
    "plt.show()"
   ]
  },
  {
   "cell_type": "markdown",
   "id": "03b1b2bb",
   "metadata": {},
   "source": [
    "## Training Performance"
   ]
  },
  {
   "cell_type": "code",
   "execution_count": 13,
   "id": "e6edba19",
   "metadata": {},
   "outputs": [
    {
     "name": "stdout",
     "output_type": "stream",
     "text": [
      "y_truth   1    2    3    4    5    6    7    8    9    10\n",
      "y_pred                                                   \n",
      "1        838    3   14   44    5    0  220    0    1    0\n",
      "2          4  908    1   17    4    0    3    0    2    0\n",
      "3         14   12  645   14   69    0  133    0    9    1\n",
      "4         89   37    5  870   41    2   55    0   12    2\n",
      "5          2    6  172   28  763    0  123    0    6    0\n",
      "6         16    3   26    5    8  841   30   89   25   33\n",
      "7         27    3   80   28   79    0  423    0   17    0\n",
      "8          0    0    0    0    0  115    1  862    8   43\n",
      "9         18    0    8    5   10   13   34    2  892    0\n",
      "10         1    0    0    1    0   37    0   84    2  957\n"
     ]
    }
   ],
   "source": [
    "# calculate confusion matrix\n",
    "y_predicted = np.array([np.argmax(Y_predicted, axis = 1) + 1])\n",
    "confusion_matrix = pd.crosstab(y_predicted[0], y_truth.T[0],\n",
    "                               rownames = [\"y_pred\"],\n",
    "                               colnames = [\"y_truth\"])\n",
    "\n",
    "print(confusion_matrix)"
   ]
  },
  {
   "cell_type": "markdown",
   "id": "8041f96f",
   "metadata": {},
   "source": [
    "# Testing Data"
   ]
  },
  {
   "cell_type": "code",
   "execution_count": null,
   "id": "c5353e9a",
   "metadata": {},
   "outputs": [],
   "source": [
    "# learn W and w0 using gradient descent\n",
    "iteration = 1\n",
    "objective_values_test = []\n",
    "while True:\n",
    "    Y_predicted_test = softmax(X_test, W, w0)\n",
    "\n",
    "    objective_values_test = np.append(objective_values_test, 0.5 * np.sum((Y_test - Y_predicted_test)**2))\n",
    "\n",
    "    W_old = W\n",
    "    w0_old = w0\n",
    "\n",
    "    W = W_old - eta * gradient_W(X_test, Y_test, Y_predicted_test)\n",
    "    w0 = w0_old - eta * gradient_w0(Y_test, Y_predicted_test)\n",
    "\n",
    "    if iteration == iteration_count:\n",
    "        break\n",
    "\n",
    "    iteration = iteration + 1\n",
    "print(W)\n",
    "print(w0)"
   ]
  },
  {
   "cell_type": "code",
   "execution_count": null,
   "id": "8b360a3a",
   "metadata": {},
   "outputs": [],
   "source": [
    "# plot objective function during iterations\n",
    "plt.figure(figsize = (8, 4))\n",
    "plt.plot(range(1, iteration + 1), objective_values_test, \"k-\")\n",
    "plt.xlabel(\"Iteration\")\n",
    "plt.ylabel(\"Error\")\n",
    "plt.show()"
   ]
  },
  {
   "cell_type": "code",
   "execution_count": null,
   "id": "a76b6112",
   "metadata": {},
   "outputs": [],
   "source": [
    "# calculate confusion matrix\n",
    "y_predicted_test = np.array([np.argmax(Y_predicted_test, axis = 1) + 1])\n",
    "confusion_matrix_test = pd.crosstab(y_predicted_test[0], y_test.T[0],\n",
    "                               rownames = [\"y_pred\"],\n",
    "                               colnames = [\"y_truth\"])\n",
    "\n",
    "print(confusion_matrix_test)"
   ]
  },
  {
   "cell_type": "code",
   "execution_count": null,
   "id": "ef0fbff2",
   "metadata": {},
   "outputs": [],
   "source": []
  }
 ],
 "metadata": {
  "kernelspec": {
   "display_name": "Python 3 (ipykernel)",
   "language": "python",
   "name": "python3"
  },
  "language_info": {
   "codemirror_mode": {
    "name": "ipython",
    "version": 3
   },
   "file_extension": ".py",
   "mimetype": "text/x-python",
   "name": "python",
   "nbconvert_exporter": "python",
   "pygments_lexer": "ipython3",
   "version": "3.9.13"
  }
 },
 "nbformat": 4,
 "nbformat_minor": 5
}
