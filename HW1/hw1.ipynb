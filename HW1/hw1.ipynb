{
 "cells": [
  {
   "cell_type": "markdown",
   "id": "53a1aba9",
   "metadata": {},
   "source": [
    "# HW 01 - : Naive Bayes Classifier\n",
    "## Murat Han Aydoğan\n",
    "### 64756"
   ]
  },
  {
   "cell_type": "code",
   "execution_count": 1,
   "id": "876fcc69",
   "metadata": {},
   "outputs": [],
   "source": [
    "import matplotlib.pyplot as plt\n",
    "import numpy as np\n",
    "import scipy.linalg as linalg\n",
    "import pandas as pd"
   ]
  },
  {
   "cell_type": "markdown",
   "id": "74a2dc26",
   "metadata": {},
   "source": [
    "## Importing Data"
   ]
  },
  {
   "cell_type": "code",
   "execution_count": 2,
   "id": "e63e2ab3",
   "metadata": {},
   "outputs": [],
   "source": [
    "data_set_x = np.genfromtxt(\"hw01_data_points.csv\", dtype=\"S1\" , delimiter=\",\")\n",
    "data_set_y = np.genfromtxt(\"hw01_class_labels.csv\")\n",
    "\n",
    "training_y = data_set_y[0:300].astype(int)\n",
    "training_x = data_set_x[0:300].astype(str)\n",
    "\n",
    "test_y = data_set_y[300:400].astype(int)\n",
    "test_x = data_set_x[300:400].astype(str)\n",
    "\n",
    "training_N = len(training_x)\n",
    "testing_N = len(test_x)\n",
    "\n",
    "seq_len = 7\n",
    "\n",
    "training_group_1 = len(training_x[training_y == 1])\n",
    "training_group_2 = training_N - training_group_1"
   ]
  },
  {
   "cell_type": "markdown",
   "id": "f65b9bc6",
   "metadata": {},
   "source": [
    "## Parameter Estimation"
   ]
  },
  {
   "cell_type": "code",
   "execution_count": 3,
   "id": "2decec1b",
   "metadata": {},
   "outputs": [],
   "source": [
    "#pAcd =np.array([ [(np.count_nonzero(np.transpose(training_x[training_y == j+1])[k] == 'A') / training_group_1) for k in range(seq_len)] for j in range(2)])\n",
    "#pCcd =np.array([ [(np.count_nonzero(np.transpose(training_x[training_y == j+1])[k] == 'C') / training_group_1) for k in range(seq_len)] for j in range(2)])\n",
    "#pGcd =np.array([ [(np.count_nonzero(np.transpose(training_x[training_y == j+1])[k] == 'G') / training_group_1) for k in range(seq_len)] for j in range(2)])\n",
    "#pTcd =np.array([ [(np.count_nonzero(np.transpose(training_x[training_y == j+1])[k] == 'T') / training_group_1) for k in range(seq_len)] for j in range(2)])\n",
    "\n",
    "pAcd = np.append(\n",
    "         [np.array([(np.count_nonzero(np.transpose(training_x[training_y == 1])[k] == 'A') / training_group_1) for k in range(seq_len)])],\n",
    "         [np.array([(np.count_nonzero(np.transpose(training_x[training_y == 2])[k] == 'A') / training_group_2) for k in range(seq_len)])], axis=0)\n",
    "pCcd = np.append(\n",
    "         [np.array([(np.count_nonzero(np.transpose(training_x[training_y == 1])[k] == 'C') / training_group_1) for k in range(seq_len)])],\n",
    "         [np.array([(np.count_nonzero(np.transpose(training_x[training_y == 2])[k] == 'C') / training_group_2) for k in range(seq_len)])], axis=0)\n",
    "pGcd = np.append(\n",
    "         [np.array([(np.count_nonzero(np.transpose(training_x[training_y == 1])[k] == 'G') / training_group_1) for k in range(seq_len)])],\n",
    "         [np.array([(np.count_nonzero(np.transpose(training_x[training_y == 2])[k] == 'G') / training_group_2) for k in range(seq_len)])], axis=0)\n",
    "pTcd = np.append(\n",
    "         [np.array([(np.count_nonzero(np.transpose(training_x[training_y == 1])[k] == 'T') / training_group_1) for k in range(seq_len)])],\n",
    "         [np.array([(np.count_nonzero(np.transpose(training_x[training_y == 2])[k] == 'T') / training_group_2) for k in range(seq_len)])], axis=0)\n",
    "\n",
    "class_priors = np.array([training_group_1/training_N, training_group_2/training_N])"
   ]
  },
  {
   "cell_type": "code",
   "execution_count": 4,
   "id": "2a8cfcf6",
   "metadata": {},
   "outputs": [
    {
     "name": "stdout",
     "output_type": "stream",
     "text": [
      "[[0.28       0.68       0.09333333 0.56666667 0.68       0.14\n",
      "  0.19333333]\n",
      " [0.22666667 0.24       0.26666667 0.18666667 0.20666667 0.18\n",
      "  0.26      ]]\n",
      "[[0.4        0.08666667 0.01333333 0.02       0.12       0.06\n",
      "  0.08      ]\n",
      " [0.16       0.23333333 0.09333333 0.17333333 0.21333333 0.26666667\n",
      "  0.19333333]]\n",
      "[[0.21333333 0.09333333 0.82666667 0.35333333 0.1        0.76\n",
      "  0.20666667]\n",
      " [0.29333333 0.27333333 0.22666667 0.36       0.2        0.23333333\n",
      "  0.2       ]]\n",
      "[[0.10666667 0.14       0.06666667 0.06       0.1        0.04\n",
      "  0.52      ]\n",
      " [0.32       0.25333333 0.41333333 0.28       0.38       0.32\n",
      "  0.34666667]]\n",
      "[0.5 0.5]\n"
     ]
    }
   ],
   "source": [
    "print(pAcd)\n",
    "print(pCcd)\n",
    "print(pGcd)\n",
    "print(pTcd)\n",
    "print(class_priors)"
   ]
  },
  {
   "cell_type": "markdown",
   "id": "f6091d20",
   "metadata": {},
   "source": [
    "## Scoring Function"
   ]
  },
  {
   "cell_type": "code",
   "execution_count": 5,
   "id": "77106544",
   "metadata": {},
   "outputs": [],
   "source": [
    "def scoring_func(x):\n",
    "    g1 = 1\n",
    "    g2 = 1\n",
    "    for i in range(len(x)):\n",
    "        if(x[i] == 'A'):\n",
    "            g1 *= pAcd[0][i]\n",
    "            g2 *= pAcd[1][i]\n",
    "        elif(x[i] == 'C'):\n",
    "            g1 *= pCcd[0][i]\n",
    "            g2 *= pCcd[1][i]\n",
    "        elif(x[i] == 'G'):\n",
    "            g1 *= pGcd[0][i]\n",
    "            g2 *= pGcd[1][i]\n",
    "        else:\n",
    "            g1 *= pTcd[0][i]\n",
    "            g2 *= pTcd[1][i]\n",
    "    g1 = np.log(g1) + np.log(class_priors[0])\n",
    "    g2 = np.log(g2) + np.log(class_priors[1])\n",
    "    \n",
    "    return 1 if g1 > g2 else 2\n",
    "\n",
    "predicted_training_y = np.array([scoring_func(training_x[k]) for k in range(len(training_x))])\n",
    "predicted_test_y = np.array([scoring_func(test_x[k]) for k in range(len(test_x))])"
   ]
  },
  {
   "cell_type": "markdown",
   "id": "0ba2904e",
   "metadata": {},
   "source": [
    "## Confusion Matrix"
   ]
  },
  {
   "cell_type": "code",
   "execution_count": 6,
   "id": "13e5ffda",
   "metadata": {},
   "outputs": [
    {
     "name": "stdout",
     "output_type": "stream",
     "text": [
      "y_truth    1    2\n",
      "y_pred           \n",
      "1        145   14\n",
      "2          5  136\n"
     ]
    }
   ],
   "source": [
    "confusion_train = pd.crosstab(predicted_training_y, training_y, rownames=['y_pred'], colnames=['y_truth'])\n",
    "print(confusion_train)"
   ]
  },
  {
   "cell_type": "code",
   "execution_count": 7,
   "id": "d2436fb2",
   "metadata": {},
   "outputs": [
    {
     "name": "stdout",
     "output_type": "stream",
     "text": [
      "y_truth   1   2\n",
      "y_pred         \n",
      "1        48   8\n",
      "2         2  42\n"
     ]
    }
   ],
   "source": [
    "confusion_test = pd.crosstab(predicted_test_y, test_y, rownames=['y_pred'], colnames=['y_truth'])\n",
    "print(confusion_test)"
   ]
  },
  {
   "cell_type": "code",
   "execution_count": null,
   "id": "19609c59",
   "metadata": {},
   "outputs": [],
   "source": []
  }
 ],
 "metadata": {
  "kernelspec": {
   "display_name": "Python 3 (ipykernel)",
   "language": "python",
   "name": "python3"
  },
  "language_info": {
   "codemirror_mode": {
    "name": "ipython",
    "version": 3
   },
   "file_extension": ".py",
   "mimetype": "text/x-python",
   "name": "python",
   "nbconvert_exporter": "python",
   "pygments_lexer": "ipython3",
   "version": "3.9.13"
  }
 },
 "nbformat": 4,
 "nbformat_minor": 5
}
